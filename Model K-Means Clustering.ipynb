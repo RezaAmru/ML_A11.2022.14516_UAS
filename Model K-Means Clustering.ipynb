{
 "cells": [
  {
   "cell_type": "code",
   "execution_count": 337,
   "id": "b03123fd-fea2-4bf6-b70d-d0ca869f4c26",
   "metadata": {},
   "outputs": [
    {
     "name": "stdout",
     "output_type": "stream",
     "text": [
      "Requirement already satisfied: pandas in c:\\users\\reza amru\\anaconda3\\lib\\site-packages (2.2.2)\n",
      "Requirement already satisfied: numpy in c:\\users\\reza amru\\anaconda3\\lib\\site-packages (1.26.4)\n",
      "Requirement already satisfied: scikit-learn in c:\\users\\reza amru\\anaconda3\\lib\\site-packages (1.4.2)\n",
      "Requirement already satisfied: matplotlib in c:\\users\\reza amru\\anaconda3\\lib\\site-packages (3.8.4)\n",
      "Requirement already satisfied: seaborn in c:\\users\\reza amru\\anaconda3\\lib\\site-packages (0.13.2)\n",
      "Requirement already satisfied: python-dateutil>=2.8.2 in c:\\users\\reza amru\\anaconda3\\lib\\site-packages (from pandas) (2.9.0.post0)\n",
      "Requirement already satisfied: pytz>=2020.1 in c:\\users\\reza amru\\anaconda3\\lib\\site-packages (from pandas) (2024.1)\n",
      "Requirement already satisfied: tzdata>=2022.7 in c:\\users\\reza amru\\anaconda3\\lib\\site-packages (from pandas) (2023.3)\n",
      "Requirement already satisfied: scipy>=1.6.0 in c:\\users\\reza amru\\anaconda3\\lib\\site-packages (from scikit-learn) (1.13.1)\n",
      "Requirement already satisfied: joblib>=1.2.0 in c:\\users\\reza amru\\anaconda3\\lib\\site-packages (from scikit-learn) (1.4.2)\n",
      "Requirement already satisfied: threadpoolctl>=2.0.0 in c:\\users\\reza amru\\anaconda3\\lib\\site-packages (from scikit-learn) (2.2.0)\n",
      "Requirement already satisfied: contourpy>=1.0.1 in c:\\users\\reza amru\\anaconda3\\lib\\site-packages (from matplotlib) (1.2.0)\n",
      "Requirement already satisfied: cycler>=0.10 in c:\\users\\reza amru\\anaconda3\\lib\\site-packages (from matplotlib) (0.11.0)\n",
      "Requirement already satisfied: fonttools>=4.22.0 in c:\\users\\reza amru\\anaconda3\\lib\\site-packages (from matplotlib) (4.51.0)\n",
      "Requirement already satisfied: kiwisolver>=1.3.1 in c:\\users\\reza amru\\anaconda3\\lib\\site-packages (from matplotlib) (1.4.4)\n",
      "Requirement already satisfied: packaging>=20.0 in c:\\users\\reza amru\\anaconda3\\lib\\site-packages (from matplotlib) (23.2)\n",
      "Requirement already satisfied: pillow>=8 in c:\\users\\reza amru\\anaconda3\\lib\\site-packages (from matplotlib) (10.3.0)\n",
      "Requirement already satisfied: pyparsing>=2.3.1 in c:\\users\\reza amru\\anaconda3\\lib\\site-packages (from matplotlib) (3.0.9)\n",
      "Requirement already satisfied: six>=1.5 in c:\\users\\reza amru\\anaconda3\\lib\\site-packages (from python-dateutil>=2.8.2->pandas) (1.16.0)\n",
      "Note: you may need to restart the kernel to use updated packages.\n"
     ]
    }
   ],
   "source": [
    "pip install pandas numpy scikit-learn matplotlib seaborn"
   ]
  },
  {
   "cell_type": "code",
   "execution_count": 338,
   "id": "b63e2b0b-1be4-4e5d-ae6a-0806f157d29f",
   "metadata": {},
   "outputs": [],
   "source": [
    "import pandas as pd\n",
    "import numpy as np\n",
    "from sklearn.cluster import KMeans\n",
    "from sklearn.preprocessing import StandardScaler\n",
    "import matplotlib.pyplot as plt\n",
    "import seaborn as sns\n",
    "import joblib\n",
    "from sklearn.impute import SimpleImputer\n"
   ]
  },
  {
   "cell_type": "code",
   "execution_count": 339,
   "id": "9beb7fe7-39b9-479a-9024-bf279202e45f",
   "metadata": {},
   "outputs": [],
   "source": [
    "# Ganti dengan path ke file CSV yang telah diunduh\n",
    "path = r'C:\\Users\\reza amru\\algoritma k means clustering\\clustered_spotify_songs.csv'\n",
    "\n",
    "# Memuat dataset\n",
    "df = pd.read_csv(path)\n"
   ]
  },
  {
   "cell_type": "code",
   "execution_count": 340,
   "id": "5bb7d3cf-aa6c-4792-942c-72e32c638b84",
   "metadata": {},
   "outputs": [
    {
     "name": "stdout",
     "output_type": "stream",
     "text": [
      "   true_label  cluster\n",
      "0           2        1\n",
      "1           3        1\n",
      "2           0        0\n",
      "3           2        1\n",
      "4           2        1\n"
     ]
    }
   ],
   "source": [
    "# Misalkan df adalah DataFrame Anda\n",
    "# Menghapus kolom yang tidak diperlukan\n",
    "df = df.drop(['id', 'name', 'artists', 'release_date'], axis=1, errors='ignore')\n",
    "\n",
    "# Memisahkan kolom numerik dan non-numerik\n",
    "numeric_cols = df.select_dtypes(include=[np.number]).columns\n",
    "non_numeric_cols = df.select_dtypes(exclude=[np.number]).columns\n",
    "\n",
    "# Menangani nilai yang hilang di kolom numerik\n",
    "df[numeric_cols] = df[numeric_cols].fillna(df[numeric_cols].median())\n",
    "\n",
    "# Menangani nilai yang hilang di kolom non-numerik\n",
    "# Misalkan kita ingin mengisi nilai yang hilang dengan string 'missing'\n",
    "df[non_numeric_cols] = df[non_numeric_cols].fillna('missing')\n",
    "\n",
    "# Menampilkan hasil\n",
    "print(df.head())"
   ]
  },
  {
   "cell_type": "code",
   "execution_count": 341,
   "id": "f1c6e2c4-b8f8-40fc-95c7-071d60035683",
   "metadata": {},
   "outputs": [
    {
     "name": "stdout",
     "output_type": "stream",
     "text": [
      "   true_label  cluster\n",
      "0           2        1\n",
      "1           3        1\n",
      "2           0        0\n",
      "3           2        1\n",
      "4           2        1\n",
      "<class 'pandas.core.frame.DataFrame'>\n",
      "RangeIndex: 8 entries, 0 to 7\n",
      "Data columns (total 2 columns):\n",
      " #   Column      Non-Null Count  Dtype\n",
      "---  ------      --------------  -----\n",
      " 0   true_label  8 non-null      int64\n",
      " 1   cluster     8 non-null      int64\n",
      "dtypes: int64(2)\n",
      "memory usage: 260.0 bytes\n",
      "None\n"
     ]
    }
   ],
   "source": [
    "# Menampilkan beberapa baris awal dataset\n",
    "print(df.head())\n",
    "\n",
    "# Menampilkan informasi kolom dan tipe data\n",
    "print(df.info())\n",
    "\n",
    "# Menghapus kolom yang tidak relevan\n",
    "df = df.drop(['id', 'name', 'artists', 'release_date'], axis=1, errors='ignore')\n",
    "\n",
    "# Menangani nilai yang hilang\n",
    "df = df.fillna(df.median())\n"
   ]
  },
  {
   "cell_type": "code",
   "execution_count": 347,
   "id": "db29ecd5-2404-4167-bfec-949a338efdeb",
   "metadata": {},
   "outputs": [
    {
     "name": "stdout",
     "output_type": "stream",
     "text": [
      "true_label    int64\n",
      "cluster       int64\n",
      "dtype: object\n"
     ]
    }
   ],
   "source": [
    "# Menampilkan tipe data dari setiap kolom\n",
    "print(df.dtypes)\n"
   ]
  },
  {
   "cell_type": "code",
   "execution_count": 349,
   "id": "b601365e-cf7a-422c-b9ff-f85e9cb690d9",
   "metadata": {},
   "outputs": [
    {
     "name": "stdout",
     "output_type": "stream",
     "text": [
      "   true_label  cluster\n",
      "0           2        1\n",
      "1           3        1\n",
      "2           0        0\n",
      "3           2        1\n",
      "4           2        1\n"
     ]
    }
   ],
   "source": [
    "# Memilih hanya kolom-kolom numerik\n",
    "numerical_df = df.select_dtypes(include=[np.number])\n",
    "\n",
    "# Menampilkan beberapa baris awal dari kolom numerik\n",
    "print(numerical_df.head())\n"
   ]
  },
  {
   "cell_type": "code",
   "execution_count": 351,
   "id": "ccfbca42-d163-4383-9492-a3f7ca47d12b",
   "metadata": {},
   "outputs": [],
   "source": [
    "# Menghapus kolom non-numerik\n",
    "df = df.select_dtypes(include=[np.number])\n",
    "\n",
    "# Menangani nilai yang hilang\n",
    "df = df.fillna(df.median())\n"
   ]
  },
  {
   "cell_type": "code",
   "execution_count": 353,
   "id": "e4d675d0-5348-43b0-9334-95d3272b04db",
   "metadata": {},
   "outputs": [],
   "source": [
    "scaler = StandardScaler()\n",
    "scaled_data = scaler.fit_transform(df)\n"
   ]
  },
  {
   "cell_type": "code",
   "execution_count": 355,
   "id": "c973dc5d-e05c-4d65-8d44-f72429189448",
   "metadata": {},
   "outputs": [],
   "source": [
    "import os\n",
    "os.environ['OMP_NUM_THREADS'] = '1'\n"
   ]
  },
  {
   "cell_type": "code",
   "execution_count": 357,
   "id": "98e98903-bcf3-4c07-be59-5f2705cd93d9",
   "metadata": {},
   "outputs": [
    {
     "name": "stderr",
     "output_type": "stream",
     "text": [
      "C:\\Users\\reza amru\\anaconda3\\Lib\\site-packages\\sklearn\\cluster\\_kmeans.py:1446: UserWarning: KMeans is known to have a memory leak on Windows with MKL, when there are less chunks than available threads. You can avoid it by setting the environment variable OMP_NUM_THREADS=1.\n",
      "  warnings.warn(\n",
      "C:\\Users\\reza amru\\anaconda3\\Lib\\site-packages\\sklearn\\cluster\\_kmeans.py:1446: UserWarning: KMeans is known to have a memory leak on Windows with MKL, when there are less chunks than available threads. You can avoid it by setting the environment variable OMP_NUM_THREADS=1.\n",
      "  warnings.warn(\n",
      "C:\\Users\\reza amru\\anaconda3\\Lib\\site-packages\\sklearn\\cluster\\_kmeans.py:1446: UserWarning: KMeans is known to have a memory leak on Windows with MKL, when there are less chunks than available threads. You can avoid it by setting the environment variable OMP_NUM_THREADS=1.\n",
      "  warnings.warn(\n",
      "C:\\Users\\reza amru\\anaconda3\\Lib\\site-packages\\sklearn\\cluster\\_kmeans.py:1446: UserWarning: KMeans is known to have a memory leak on Windows with MKL, when there are less chunks than available threads. You can avoid it by setting the environment variable OMP_NUM_THREADS=1.\n",
      "  warnings.warn(\n",
      "C:\\Users\\reza amru\\anaconda3\\Lib\\site-packages\\sklearn\\cluster\\_kmeans.py:1446: UserWarning: KMeans is known to have a memory leak on Windows with MKL, when there are less chunks than available threads. You can avoid it by setting the environment variable OMP_NUM_THREADS=1.\n",
      "  warnings.warn(\n",
      "C:\\Users\\reza amru\\anaconda3\\Lib\\site-packages\\sklearn\\cluster\\_kmeans.py:1446: UserWarning: KMeans is known to have a memory leak on Windows with MKL, when there are less chunks than available threads. You can avoid it by setting the environment variable OMP_NUM_THREADS=1.\n",
      "  warnings.warn(\n",
      "C:\\Users\\reza amru\\anaconda3\\Lib\\site-packages\\sklearn\\cluster\\_kmeans.py:1446: UserWarning: KMeans is known to have a memory leak on Windows with MKL, when there are less chunks than available threads. You can avoid it by setting the environment variable OMP_NUM_THREADS=1.\n",
      "  warnings.warn(\n",
      "C:\\Users\\reza amru\\anaconda3\\Lib\\site-packages\\sklearn\\cluster\\_kmeans.py:1446: UserWarning: KMeans is known to have a memory leak on Windows with MKL, when there are less chunks than available threads. You can avoid it by setting the environment variable OMP_NUM_THREADS=1.\n",
      "  warnings.warn(\n"
     ]
    },
    {
     "data": {
      "image/png": "[encoded data removed]",
      "text/plain": [
       "<Figure size 800x500 with 1 Axes>"
      ]
     },
     "metadata": {},
     "output_type": "display_data"
    }
   ],
   "source": [
    "# Normalisasi data\n",
    "scaler = StandardScaler()\n",
    "scaled_data = scaler.fit_transform(data)\n",
    "\n",
    "# Tentukan rentang jumlah klaster yang ingin diuji\n",
    "# Maksimalkan klaster hingga jumlah data\n",
    "range_n_clusters = list(range(1, min(9, len(data) + 1)))  # Maksimal n_samples klaster\n",
    "\n",
    "# Hitung WCSS untuk setiap jumlah klaster\n",
    "wcss = []\n",
    "for n in range_n_clusters:\n",
    "    kmeans = KMeans(n_clusters=n, random_state=42)\n",
    "    kmeans.fit(scaled_data)\n",
    "    wcss.append(kmeans.inertia_)\n",
    "\n",
    "# Plot hasil inertia\n",
    "plt.figure(figsize=(8, 5))\n",
    "plt.plot(range_n_clusters, wcss, marker='o')\n",
    "plt.title('Metode Elbow untuk Menentukan Jumlah Klaster Optimal')\n",
    "plt.xlabel('Jumlah Klaster')\n",
    "plt.ylabel('WCSS')\n",
    "plt.grid(True)\n",
    "plt.show()"
   ]
  },
  {
   "cell_type": "code",
   "execution_count": 359,
   "id": "920f6d67-da33-4325-9117-9c392862972f",
   "metadata": {},
   "outputs": [
    {
     "name": "stderr",
     "output_type": "stream",
     "text": [
      "C:\\Users\\reza amru\\anaconda3\\Lib\\site-packages\\sklearn\\cluster\\_kmeans.py:1446: UserWarning: KMeans is known to have a memory leak on Windows with MKL, when there are less chunks than available threads. You can avoid it by setting the environment variable OMP_NUM_THREADS=1.\n",
      "  warnings.warn(\n"
     ]
    }
   ],
   "source": [
    "# Menentukan jumlah klaster optimal, misalnya 4\n",
    "optimal_clusters = 4\n",
    "\n",
    "kmeans = KMeans(n_clusters=optimal_clusters, random_state=42)\n",
    "kmeans.fit(scaled_data)\n",
    "\n",
    "# Menambahkan kolom klaster ke dataframe asli\n",
    "df['cluster'] = kmeans.labels_\n"
   ]
  },
  {
   "cell_type": "code",
   "execution_count": null,
   "id": "40aeb85e-528d-46f3-bdae-05a1db9d8b11",
   "metadata": {},
   "outputs": [],
   "source": []
  },
  {
   "cell_type": "code",
   "execution_count": 362,
   "id": "4135f8d3-5d96-446b-867d-c7418cdb2a85",
   "metadata": {},
   "outputs": [
    {
     "name": "stdout",
     "output_type": "stream",
     "text": [
      "Cluster 0\n",
      "       true_label  cluster\n",
      "count     2.00000      2.0\n",
      "mean      1.50000      0.0\n",
      "std       2.12132      0.0\n",
      "min       0.00000      0.0\n",
      "25%       0.75000      0.0\n",
      "50%       1.50000      0.0\n",
      "75%       2.25000      0.0\n",
      "max       3.00000      0.0\n",
      "\n",
      "\n",
      "Cluster 1\n",
      "       true_label  cluster\n",
      "count         1.0      1.0\n",
      "mean          0.0      1.0\n",
      "std           NaN      NaN\n",
      "min           0.0      1.0\n",
      "25%           0.0      1.0\n",
      "50%           0.0      1.0\n",
      "75%           0.0      1.0\n",
      "max           0.0      1.0\n",
      "\n",
      "\n",
      "Cluster 2\n",
      "       true_label  cluster\n",
      "count        4.00      4.0\n",
      "mean         2.25      2.0\n",
      "std          0.50      0.0\n",
      "min          2.00      2.0\n",
      "25%          2.00      2.0\n",
      "50%          2.00      2.0\n",
      "75%          2.25      2.0\n",
      "max          3.00      2.0\n",
      "\n",
      "\n",
      "Cluster 3\n",
      "       true_label  cluster\n",
      "count         1.0      1.0\n",
      "mean          0.0      3.0\n",
      "std           NaN      NaN\n",
      "min           0.0      3.0\n",
      "25%           0.0      3.0\n",
      "50%           0.0      3.0\n",
      "75%           0.0      3.0\n",
      "max           0.0      3.0\n",
      "\n",
      "\n"
     ]
    }
   ],
   "source": [
    "# Menampilkan statistik deskriptif untuk setiap klaster\n",
    "for i in range(optimal_clusters):\n",
    "    print(f'Cluster {i}')\n",
    "    print(df[df['cluster'] == i].describe())\n",
    "    print('\\n')\n"
   ]
  },
  {
   "cell_type": "code",
   "execution_count": 364,
   "id": "7f441d13-3d75-48e2-8069-d08da844f7a4",
   "metadata": {},
   "outputs": [],
   "source": [
    "# Menyimpan model K-Means\n",
    "joblib.dump(kmeans, 'kmeans_model.pkl')\n",
    "\n",
    "# Menyimpan dataframe dengan kolom klaster\n",
    "df.to_csv('clustered_spotify_songs.csv', index=False)\n"
   ]
  },
  {
   "cell_type": "code",
   "execution_count": 366,
   "id": "6f3d004e-e95b-45f4-aeef-f65a553f8926",
   "metadata": {},
   "outputs": [
    {
     "name": "stdout",
     "output_type": "stream",
     "text": [
      "Silhouette Score: 0.2776327337866619\n",
      "Calinski-Harabasz Score: 6.439862542955328\n",
      "Davies-Bouldin Score: 0.48438664079689586\n"
     ]
    }
   ],
   "source": [
    "# Impor library yang diperlukan\n",
    "from sklearn.metrics import silhouette_score, calinski_harabasz_score, davies_bouldin_score\n",
    "\n",
    "# Pastikan data dan hasil clustering tersedia\n",
    "# scaled_data adalah data yang telah diskalakan\n",
    "# kmeans adalah objek dari model KMeans yang telah dilatih\n",
    "\n",
    "# Menghitung metrik evaluasi\n",
    "silhouette_avg = silhouette_score(scaled_data, kmeans.labels_)\n",
    "calinski_harabasz_avg = calinski_harabasz_score(scaled_data, kmeans.labels_)\n",
    "davies_bouldin_avg = davies_bouldin_score(scaled_data, kmeans.labels_)\n",
    "\n",
    "# Menampilkan hasil evaluasi\n",
    "print(f\"Silhouette Score: {silhouette_avg}\")\n",
    "print(f\"Calinski-Harabasz Score: {calinski_harabasz_avg}\")\n",
    "print(f\"Davies-Bouldin Score: {davies_bouldin_avg}\")"
   ]
  },
  {
   "cell_type": "code",
   "execution_count": null,
   "id": "c885447e-841a-48c1-b5ff-d18290504961",
   "metadata": {},
   "outputs": [],
   "source": []
  },
  {
   "cell_type": "code",
   "execution_count": 369,
   "id": "718467db-9f74-4d50-b0a3-b370befba5ca",
   "metadata": {},
   "outputs": [],
   "source": [
    "y_true = y_true.astype(int)\n",
    "y_pred = df['cluster'].astype(int)\n"
   ]
  },
  {
   "cell_type": "code",
   "execution_count": 371,
   "id": "ea606607-6901-46ea-a31e-54301272f40c",
   "metadata": {},
   "outputs": [
    {
     "name": "stdout",
     "output_type": "stream",
     "text": [
      "F1 Score: 0.31\n",
      "              precision    recall  f1-score   support\n",
      "\n",
      "           0       0.50      0.33      0.40         3\n",
      "           1       0.00      0.00      0.00         0\n",
      "           2       0.75      1.00      0.86         3\n",
      "           3       0.00      0.00      0.00         2\n",
      "\n",
      "    accuracy                           0.50         8\n",
      "   macro avg       0.31      0.33      0.31         8\n",
      "weighted avg       0.47      0.50      0.47         8\n",
      "\n"
     ]
    },
    {
     "name": "stderr",
     "output_type": "stream",
     "text": [
      "C:\\Users\\reza amru\\anaconda3\\Lib\\site-packages\\sklearn\\metrics\\_classification.py:1509: UndefinedMetricWarning: Recall is ill-defined and being set to 0.0 in labels with no true samples. Use `zero_division` parameter to control this behavior.\n",
      "  _warn_prf(average, modifier, f\"{metric.capitalize()} is\", len(result))\n",
      "C:\\Users\\reza amru\\anaconda3\\Lib\\site-packages\\sklearn\\metrics\\_classification.py:1509: UndefinedMetricWarning: Recall is ill-defined and being set to 0.0 in labels with no true samples. Use `zero_division` parameter to control this behavior.\n",
      "  _warn_prf(average, modifier, f\"{metric.capitalize()} is\", len(result))\n",
      "C:\\Users\\reza amru\\anaconda3\\Lib\\site-packages\\sklearn\\metrics\\_classification.py:1509: UndefinedMetricWarning: Recall is ill-defined and being set to 0.0 in labels with no true samples. Use `zero_division` parameter to control this behavior.\n",
      "  _warn_prf(average, modifier, f\"{metric.capitalize()} is\", len(result))\n"
     ]
    }
   ],
   "source": [
    "from sklearn.metrics import f1_score, classification_report\n",
    "\n",
    "# Misalnya, y_true adalah label ground truth dan y_pred adalah hasil klasterisasi\n",
    "f1 = f1_score(y_true, y_pred, average='macro')  # 'macro' atau 'weighted' untuk multiclass\n",
    "print(f'F1 Score: {f1:.2f}')\n",
    "\n",
    "# Atau menggunakan classification_report untuk detail lebih lanjut\n",
    "print(classification_report(y_true, y_pred))\n"
   ]
  },
  {
   "cell_type": "code",
   "execution_count": 373,
   "id": "cafc6f34-3cf5-4a3d-a8d2-5406324e267a",
   "metadata": {},
   "outputs": [
    {
     "name": "stdout",
     "output_type": "stream",
     "text": [
      "Unique labels in y_true: {0, 2, 3}\n",
      "Unique labels in y_pred: {0, 1, 2, 3}\n"
     ]
    }
   ],
   "source": [
    "print(\"Unique labels in y_true:\", set(y_true))\n",
    "print(\"Unique labels in y_pred:\", set(y_pred))\n"
   ]
  },
  {
   "cell_type": "code",
   "execution_count": 375,
   "id": "5d0cd924-89c0-48d9-904f-9c6297392c92",
   "metadata": {},
   "outputs": [
    {
     "name": "stdout",
     "output_type": "stream",
     "text": [
      "Silhouette Score: 0.28\n"
     ]
    }
   ],
   "source": [
    "from sklearn.metrics import silhouette_score\n",
    "\n",
    "silhouette_avg = silhouette_score(df[numeric_cols], df['cluster'])\n",
    "print(f'Silhouette Score: {silhouette_avg:.2f}')\n"
   ]
  },
  {
   "cell_type": "code",
   "execution_count": 377,
   "id": "5640dced-8a9c-4f6e-9d5d-9433c15dbf52",
   "metadata": {},
   "outputs": [
    {
     "name": "stdout",
     "output_type": "stream",
     "text": [
      "Calinski-Harabasz Score: 1.00\n"
     ]
    }
   ],
   "source": [
    "print(f'Calinski-Harabasz Score: {calinski_harabasz_scores[-1]:.2f}')\n"
   ]
  },
  {
   "cell_type": "code",
   "execution_count": 379,
   "id": "b4313d46-c637-4cef-81d2-980deeb85c03",
   "metadata": {},
   "outputs": [
    {
     "name": "stdout",
     "output_type": "stream",
     "text": [
      "Davies-Bouldin Score: 0.00\n"
     ]
    }
   ],
   "source": [
    "print(f'Davies-Bouldin Score: {davies_bouldin_scores[-1]:.2f}')\n"
   ]
  },
  {
   "cell_type": "code",
   "execution_count": 381,
   "id": "130cdbd5-dc29-4faf-a7df-d9ad3f34ab29",
   "metadata": {},
   "outputs": [
    {
     "name": "stdout",
     "output_type": "stream",
     "text": [
      "F1 Score untuk Cluster 0: 0.31\n",
      "F1 Score untuk Cluster 1: 0.31\n",
      "F1 Score untuk Cluster 2: 0.31\n",
      "F1 Score untuk Cluster 3: 0.31\n"
     ]
    }
   ],
   "source": [
    "from sklearn.metrics import f1_score\n",
    "\n",
    "# Membuat list untuk menyimpan F1 scores\n",
    "f1_scores = []\n",
    "\n",
    "# Menghitung F1 score untuk setiap cluster\n",
    "for cluster in range(optimal_clusters):\n",
    "    y_pred = (df['cluster'] == cluster).astype(int)\n",
    "    \n",
    "    f1_scores.append(f1)\n",
    "    print(f'F1 Score untuk Cluster {cluster}: {f1:.2f}')\n"
   ]
  },
  {
   "cell_type": "code",
   "execution_count": null,
   "id": "cc6990fd-d5bb-4781-aaea-3ee494d8186f",
   "metadata": {},
   "outputs": [],
   "source": []
  },
  {
   "cell_type": "code",
   "execution_count": 384,
   "id": "132e5b17-739e-4072-947a-0228376c6091",
   "metadata": {},
   "outputs": [
    {
     "name": "stdout",
     "output_type": "stream",
     "text": [
      "y_true type: int32\n",
      "y_pred type: int32\n"
     ]
    }
   ],
   "source": [
    "print(f'y_true type: {y_true.dtype}')\n",
    "print(f'y_pred type: {y_pred.dtype}')\n"
   ]
  },
  {
   "cell_type": "code",
   "execution_count": 386,
   "id": "694880ad-625d-4e87-8b60-1897ae8d2fb0",
   "metadata": {},
   "outputs": [
    {
     "name": "stdout",
     "output_type": "stream",
     "text": [
      "F1 Score untuk Cluster 0: 0.10\n",
      "F1 Score untuk Cluster 1: 0.12\n",
      "F1 Score untuk Cluster 2: 0.00\n",
      "F1 Score untuk Cluster 3: 0.12\n"
     ]
    }
   ],
   "source": [
    "# Menentukan jumlah bins sesuai jumlah cluster\n",
    "bins = np.linspace(start=min(y_true), stop=max(y_true), num=optimal_clusters + 1)\n",
    "\n",
    "# Mendiskritisasi data\n",
    "y_true_discrete = np.digitize(y_true, bins)\n",
    "y_pred_discrete = np.digitize(y_pred, bins)\n",
    "\n",
    "# Menghitung F1 Score untuk diskritisasi\n",
    "f1_scores = []\n",
    "for cluster in range(optimal_clusters):\n",
    "    y_pred = (df['cluster'] == cluster).astype(int)\n",
    "    f1 = f1_score(y_true_discrete, y_pred, average='macro')\n",
    "    f1_scores.append(f1)\n",
    "    print(f'F1 Score untuk Cluster {cluster}: {f1:.2f}')"
   ]
  },
  {
   "cell_type": "code",
   "execution_count": 388,
   "id": "af5816d4-7cc2-47f0-a483-bd768ab75944",
   "metadata": {},
   "outputs": [
    {
     "name": "stdout",
     "output_type": "stream",
     "text": [
      "Silhouette Score: 0.28\n",
      "Calinski-Harabasz Index: 6.44\n",
      "Davies-Bouldin Index: 0.48\n"
     ]
    }
   ],
   "source": [
    "# Menghitung metrik evaluasi\n",
    "silhouette_avg = silhouette_score(scaled_data, kmeans.labels_)\n",
    "calinski_harabasz_avg = calinski_harabasz_score(scaled_data, kmeans.labels_)\n",
    "davies_bouldin_avg = davies_bouldin_score(scaled_data, kmeans.labels_)\n",
    "\n",
    "print(f'Silhouette Score: {silhouette_avg:.2f}')\n",
    "print(f'Calinski-Harabasz Index: {calinski_harabasz_avg:.2f}')\n",
    "print(f'Davies-Bouldin Index: {davies_bouldin_avg:.2f}')\n",
    "\n",
    "\n",
    "# Menyimpan model K-Means\n",
    "joblib.dump(kmeans, 'kmeans_model.pkl')\n",
    "\n",
    "# Menyimpan dataframe dengan kolom klaster\n",
    "df.to_csv('clustered_spotify_songs.csv', index=False)"
   ]
  },
  {
   "cell_type": "code",
   "execution_count": 390,
   "id": "e89fd90e-5ffa-4a5e-a9d0-8e795ec6c6d0",
   "metadata": {},
   "outputs": [],
   "source": [
    "# Menambahkan kolom label ground truth secara acak (misalnya, 4 kategori)\n",
    "np.random.seed(42)\n",
    "df['true_label'] = np.random.randint(0, 4, size=len(df))"
   ]
  },
  {
   "cell_type": "code",
   "execution_count": 392,
   "id": "70ebc18a-c3ad-4849-8d7d-8716d9ddcc3c",
   "metadata": {},
   "outputs": [],
   "source": [
    "# Memilih hanya kolom-kolom numerik\n",
    "numerical_df = df.select_dtypes(include=[np.number])\n"
   ]
  },
  {
   "cell_type": "code",
   "execution_count": 394,
   "id": "475df2a2-06be-41db-917e-92a5d2a43b03",
   "metadata": {},
   "outputs": [],
   "source": [
    "# Menangani nilai yang hilang\n",
    "numerical_df = numerical_df.fillna(numerical_df.median())\n"
   ]
  },
  {
   "cell_type": "code",
   "execution_count": 396,
   "id": "ee8e7294-348b-4538-b2ca-88a843b9576a",
   "metadata": {},
   "outputs": [],
   "source": [
    "# Standarisasi data\n",
    "scaler = StandardScaler()\n",
    "scaled_data = scaler.fit_transform(numerical_df)\n"
   ]
  },
  {
   "cell_type": "code",
   "execution_count": 398,
   "id": "59591538-1588-43d0-83fe-66eef582bc8b",
   "metadata": {},
   "outputs": [],
   "source": [
    "# Menentukan jumlah klaster optimal, misalnya 4\n",
    "optimal_clusters = 4"
   ]
  },
  {
   "cell_type": "code",
   "execution_count": 400,
   "id": "87017e4f-d6f0-4d05-919a-e5fde0626a3c",
   "metadata": {},
   "outputs": [
    {
     "name": "stderr",
     "output_type": "stream",
     "text": [
      "C:\\Users\\reza amru\\anaconda3\\Lib\\site-packages\\sklearn\\cluster\\_kmeans.py:1446: UserWarning: KMeans is known to have a memory leak on Windows with MKL, when there are less chunks than available threads. You can avoid it by setting the environment variable OMP_NUM_THREADS=1.\n",
      "  warnings.warn(\n"
     ]
    },
    {
     "data": {
      "text/html": [
       "<style>#sk-container-id-4 {\n",
       "  /* Definition of color scheme common for light and dark mode */\n",
       "  --sklearn-color-text: black;\n",
       "  --sklearn-color-line: gray;\n",
       "  /* Definition of color scheme for unfitted estimators */\n",
       "  --sklearn-color-unfitted-level-0: #fff5e6;\n",
       "  --sklearn-color-unfitted-level-1: #f6e4d2;\n",
       "  --sklearn-color-unfitted-level-2: #ffe0b3;\n",
       "  --sklearn-color-unfitted-level-3: chocolate;\n",
       "  /* Definition of color scheme for fitted estimators */\n",
       "  --sklearn-color-fitted-level-0: #f0f8ff;\n",
       "  --sklearn-color-fitted-level-1: #d4ebff;\n",
       "  --sklearn-color-fitted-level-2: #b3dbfd;\n",
       "  --sklearn-color-fitted-level-3: cornflowerblue;\n",
       "\n",
       "  /* Specific color for light theme */\n",
       "  --sklearn-color-text-on-default-background: var(--sg-text-color, var(--theme-code-foreground, var(--jp-content-font-color1, black)));\n",
       "  --sklearn-color-background: var(--sg-background-color, var(--theme-background, var(--jp-layout-color0, white)));\n",
       "  --sklearn-color-border-box: var(--sg-text-color, var(--theme-code-foreground, var(--jp-content-font-color1, black)));\n",
       "  --sklearn-color-icon: #696969;\n",
       "\n",
       "  @media (prefers-color-scheme: dark) {\n",
       "    /* Redefinition of color scheme for dark theme */\n",
       "    --sklearn-color-text-on-default-background: var(--sg-text-color, var(--theme-code-foreground, var(--jp-content-font-color1, white)));\n",
       "    --sklearn-color-background: var(--sg-background-color, var(--theme-background, var(--jp-layout-color0, #111)));\n",
       "    --sklearn-color-border-box: var(--sg-text-color, var(--theme-code-foreground, var(--jp-content-font-color1, white)));\n",
       "    --sklearn-color-icon: #878787;\n",
       "  }\n",
       "}\n",
       "\n",
       "#sk-container-id-4 {\n",
       "  color: var(--sklearn-color-text);\n",
       "}\n",
       "\n",
       "#sk-container-id-4 pre {\n",
       "  padding: 0;\n",
       "}\n",
       "\n",
       "#sk-container-id-4 input.sk-hidden--visually {\n",
       "  border: 0;\n",
       "  clip: rect(1px 1px 1px 1px);\n",
       "  clip: rect(1px, 1px, 1px, 1px);\n",
       "  height: 1px;\n",
       "  margin: -1px;\n",
       "  overflow: hidden;\n",
       "  padding: 0;\n",
       "  position: absolute;\n",
       "  width: 1px;\n",
       "}\n",
       "\n",
       "#sk-container-id-4 div.sk-dashed-wrapped {\n",
       "  border: 1px dashed var(--sklearn-color-line);\n",
       "  margin: 0 0.4em 0.5em 0.4em;\n",
       "  box-sizing: border-box;\n",
       "  padding-bottom: 0.4em;\n",
       "  background-color: var(--sklearn-color-background);\n",
       "}\n",
       "\n",
       "#sk-container-id-4 div.sk-container {\n",
       "  /* jupyter's `normalize.less` sets `[hidden] { display: none; }`\n",
       "     but bootstrap.min.css set `[hidden] { display: none !important; }`\n",
       "     so we also need the `!important` here to be able to override the\n",
       "     default hidden behavior on the sphinx rendered scikit-learn.org.\n",
       "     See: https://github.com/scikit-learn/scikit-learn/issues/21755 */\n",
       "  display: inline-block !important;\n",
       "  position: relative;\n",
       "}\n",
       "\n",
       "#sk-container-id-4 div.sk-text-repr-fallback {\n",
       "  display: none;\n",
       "}\n",
       "\n",
       "div.sk-parallel-item,\n",
       "div.sk-serial,\n",
       "div.sk-item {\n",
       "  /* draw centered vertical line to link estimators */\n",
       "  background-image: linear-gradient(var(--sklearn-color-text-on-default-background), var(--sklearn-color-text-on-default-background));\n",
       "  background-size: 2px 100%;\n",
       "  background-repeat: no-repeat;\n",
       "  background-position: center center;\n",
       "}\n",
       "\n",
       "/* Parallel-specific style estimator block */\n",
       "\n",
       "#sk-container-id-4 div.sk-parallel-item::after {\n",
       "  content: \"\";\n",
       "  width: 100%;\n",
       "  border-bottom: 2px solid var(--sklearn-color-text-on-default-background);\n",
       "  flex-grow: 1;\n",
       "}\n",
       "\n",
       "#sk-container-id-4 div.sk-parallel {\n",
       "  display: flex;\n",
       "  align-items: stretch;\n",
       "  justify-content: center;\n",
       "  background-color: var(--sklearn-color-background);\n",
       "  position: relative;\n",
       "}\n",
       "\n",
       "#sk-container-id-4 div.sk-parallel-item {\n",
       "  display: flex;\n",
       "  flex-direction: column;\n",
       "}\n",
       "\n",
       "#sk-container-id-4 div.sk-parallel-item:first-child::after {\n",
       "  align-self: flex-end;\n",
       "  width: 50%;\n",
       "}\n",
       "\n",
       "#sk-container-id-4 div.sk-parallel-item:last-child::after {\n",
       "  align-self: flex-start;\n",
       "  width: 50%;\n",
       "}\n",
       "\n",
       "#sk-container-id-4 div.sk-parallel-item:only-child::after {\n",
       "  width: 0;\n",
       "}\n",
       "\n",
       "/* Serial-specific style estimator block */\n",
       "\n",
       "#sk-container-id-4 div.sk-serial {\n",
       "  display: flex;\n",
       "  flex-direction: column;\n",
       "  align-items: center;\n",
       "  background-color: var(--sklearn-color-background);\n",
       "  padding-right: 1em;\n",
       "  padding-left: 1em;\n",
       "}\n",
       "\n",
       "\n",
       "/* Toggleable style: style used for estimator/Pipeline/ColumnTransformer box that is\n",
       "clickable and can be expanded/collapsed.\n",
       "- Pipeline and ColumnTransformer use this feature and define the default style\n",
       "- Estimators will overwrite some part of the style using the `sk-estimator` class\n",
       "*/\n",
       "\n",
       "/* Pipeline and ColumnTransformer style (default) */\n",
       "\n",
       "#sk-container-id-4 div.sk-toggleable {\n",
       "  /* Default theme specific background. It is overwritten whether we have a\n",
       "  specific estimator or a Pipeline/ColumnTransformer */\n",
       "  background-color: var(--sklearn-color-background);\n",
       "}\n",
       "\n",
       "/* Toggleable label */\n",
       "#sk-container-id-4 label.sk-toggleable__label {\n",
       "  cursor: pointer;\n",
       "  display: block;\n",
       "  width: 100%;\n",
       "  margin-bottom: 0;\n",
       "  padding: 0.5em;\n",
       "  box-sizing: border-box;\n",
       "  text-align: center;\n",
       "}\n",
       "\n",
       "#sk-container-id-4 label.sk-toggleable__label-arrow:before {\n",
       "  /* Arrow on the left of the label */\n",
       "  content: \"▸\";\n",
       "  float: left;\n",
       "  margin-right: 0.25em;\n",
       "  color: var(--sklearn-color-icon);\n",
       "}\n",
       "\n",
       "#sk-container-id-4 label.sk-toggleable__label-arrow:hover:before {\n",
       "  color: var(--sklearn-color-text);\n",
       "}\n",
       "\n",
       "/* Toggleable content - dropdown */\n",
       "\n",
       "#sk-container-id-4 div.sk-toggleable__content {\n",
       "  max-height: 0;\n",
       "  max-width: 0;\n",
       "  overflow: hidden;\n",
       "  text-align: left;\n",
       "  /* unfitted */\n",
       "  background-color: var(--sklearn-color-unfitted-level-0);\n",
       "}\n",
       "\n",
       "#sk-container-id-4 div.sk-toggleable__content.fitted {\n",
       "  /* fitted */\n",
       "  background-color: var(--sklearn-color-fitted-level-0);\n",
       "}\n",
       "\n",
       "#sk-container-id-4 div.sk-toggleable__content pre {\n",
       "  margin: 0.2em;\n",
       "  border-radius: 0.25em;\n",
       "  color: var(--sklearn-color-text);\n",
       "  /* unfitted */\n",
       "  background-color: var(--sklearn-color-unfitted-level-0);\n",
       "}\n",
       "\n",
       "#sk-container-id-4 div.sk-toggleable__content.fitted pre {\n",
       "  /* unfitted */\n",
       "  background-color: var(--sklearn-color-fitted-level-0);\n",
       "}\n",
       "\n",
       "#sk-container-id-4 input.sk-toggleable__control:checked~div.sk-toggleable__content {\n",
       "  /* Expand drop-down */\n",
       "  max-height: 200px;\n",
       "  max-width: 100%;\n",
       "  overflow: auto;\n",
       "}\n",
       "\n",
       "#sk-container-id-4 input.sk-toggleable__control:checked~label.sk-toggleable__label-arrow:before {\n",
       "  content: \"▾\";\n",
       "}\n",
       "\n",
       "/* Pipeline/ColumnTransformer-specific style */\n",
       "\n",
       "#sk-container-id-4 div.sk-label input.sk-toggleable__control:checked~label.sk-toggleable__label {\n",
       "  color: var(--sklearn-color-text);\n",
       "  background-color: var(--sklearn-color-unfitted-level-2);\n",
       "}\n",
       "\n",
       "#sk-container-id-4 div.sk-label.fitted input.sk-toggleable__control:checked~label.sk-toggleable__label {\n",
       "  background-color: var(--sklearn-color-fitted-level-2);\n",
       "}\n",
       "\n",
       "/* Estimator-specific style */\n",
       "\n",
       "/* Colorize estimator box */\n",
       "#sk-container-id-4 div.sk-estimator input.sk-toggleable__control:checked~label.sk-toggleable__label {\n",
       "  /* unfitted */\n",
       "  background-color: var(--sklearn-color-unfitted-level-2);\n",
       "}\n",
       "\n",
       "#sk-container-id-4 div.sk-estimator.fitted input.sk-toggleable__control:checked~label.sk-toggleable__label {\n",
       "  /* fitted */\n",
       "  background-color: var(--sklearn-color-fitted-level-2);\n",
       "}\n",
       "\n",
       "#sk-container-id-4 div.sk-label label.sk-toggleable__label,\n",
       "#sk-container-id-4 div.sk-label label {\n",
       "  /* The background is the default theme color */\n",
       "  color: var(--sklearn-color-text-on-default-background);\n",
       "}\n",
       "\n",
       "/* On hover, darken the color of the background */\n",
       "#sk-container-id-4 div.sk-label:hover label.sk-toggleable__label {\n",
       "  color: var(--sklearn-color-text);\n",
       "  background-color: var(--sklearn-color-unfitted-level-2);\n",
       "}\n",
       "\n",
       "/* Label box, darken color on hover, fitted */\n",
       "#sk-container-id-4 div.sk-label.fitted:hover label.sk-toggleable__label.fitted {\n",
       "  color: var(--sklearn-color-text);\n",
       "  background-color: var(--sklearn-color-fitted-level-2);\n",
       "}\n",
       "\n",
       "/* Estimator label */\n",
       "\n",
       "#sk-container-id-4 div.sk-label label {\n",
       "  font-family: monospace;\n",
       "  font-weight: bold;\n",
       "  display: inline-block;\n",
       "  line-height: 1.2em;\n",
       "}\n",
       "\n",
       "#sk-container-id-4 div.sk-label-container {\n",
       "  text-align: center;\n",
       "}\n",
       "\n",
       "/* Estimator-specific */\n",
       "#sk-container-id-4 div.sk-estimator {\n",
       "  font-family: monospace;\n",
       "  border: 1px dotted var(--sklearn-color-border-box);\n",
       "  border-radius: 0.25em;\n",
       "  box-sizing: border-box;\n",
       "  margin-bottom: 0.5em;\n",
       "  /* unfitted */\n",
       "  background-color: var(--sklearn-color-unfitted-level-0);\n",
       "}\n",
       "\n",
       "#sk-container-id-4 div.sk-estimator.fitted {\n",
       "  /* fitted */\n",
       "  background-color: var(--sklearn-color-fitted-level-0);\n",
       "}\n",
       "\n",
       "/* on hover */\n",
       "#sk-container-id-4 div.sk-estimator:hover {\n",
       "  /* unfitted */\n",
       "  background-color: var(--sklearn-color-unfitted-level-2);\n",
       "}\n",
       "\n",
       "#sk-container-id-4 div.sk-estimator.fitted:hover {\n",
       "  /* fitted */\n",
       "  background-color: var(--sklearn-color-fitted-level-2);\n",
       "}\n",
       "\n",
       "/* Specification for estimator info (e.g. \"i\" and \"?\") */\n",
       "\n",
       "/* Common style for \"i\" and \"?\" */\n",
       "\n",
       ".sk-estimator-doc-link,\n",
       "a:link.sk-estimator-doc-link,\n",
       "a:visited.sk-estimator-doc-link {\n",
       "  float: right;\n",
       "  font-size: smaller;\n",
       "  line-height: 1em;\n",
       "  font-family: monospace;\n",
       "  background-color: var(--sklearn-color-background);\n",
       "  border-radius: 1em;\n",
       "  height: 1em;\n",
       "  width: 1em;\n",
       "  text-decoration: none !important;\n",
       "  margin-left: 1ex;\n",
       "  /* unfitted */\n",
       "  border: var(--sklearn-color-unfitted-level-1) 1pt solid;\n",
       "  color: var(--sklearn-color-unfitted-level-1);\n",
       "}\n",
       "\n",
       ".sk-estimator-doc-link.fitted,\n",
       "a:link.sk-estimator-doc-link.fitted,\n",
       "a:visited.sk-estimator-doc-link.fitted {\n",
       "  /* fitted */\n",
       "  border: var(--sklearn-color-fitted-level-1) 1pt solid;\n",
       "  color: var(--sklearn-color-fitted-level-1);\n",
       "}\n",
       "\n",
       "/* On hover */\n",
       "div.sk-estimator:hover .sk-estimator-doc-link:hover,\n",
       ".sk-estimator-doc-link:hover,\n",
       "div.sk-label-container:hover .sk-estimator-doc-link:hover,\n",
       ".sk-estimator-doc-link:hover {\n",
       "  /* unfitted */\n",
       "  background-color: var(--sklearn-color-unfitted-level-3);\n",
       "  color: var(--sklearn-color-background);\n",
       "  text-decoration: none;\n",
       "}\n",
       "\n",
       "div.sk-estimator.fitted:hover .sk-estimator-doc-link.fitted:hover,\n",
       ".sk-estimator-doc-link.fitted:hover,\n",
       "div.sk-label-container:hover .sk-estimator-doc-link.fitted:hover,\n",
       ".sk-estimator-doc-link.fitted:hover {\n",
       "  /* fitted */\n",
       "  background-color: var(--sklearn-color-fitted-level-3);\n",
       "  color: var(--sklearn-color-background);\n",
       "  text-decoration: none;\n",
       "}\n",
       "\n",
       "/* Span, style for the box shown on hovering the info icon */\n",
       ".sk-estimator-doc-link span {\n",
       "  display: none;\n",
       "  z-index: 9999;\n",
       "  position: relative;\n",
       "  font-weight: normal;\n",
       "  right: .2ex;\n",
       "  padding: .5ex;\n",
       "  margin: .5ex;\n",
       "  width: min-content;\n",
       "  min-width: 20ex;\n",
       "  max-width: 50ex;\n",
       "  color: var(--sklearn-color-text);\n",
       "  box-shadow: 2pt 2pt 4pt #999;\n",
       "  /* unfitted */\n",
       "  background: var(--sklearn-color-unfitted-level-0);\n",
       "  border: .5pt solid var(--sklearn-color-unfitted-level-3);\n",
       "}\n",
       "\n",
       ".sk-estimator-doc-link.fitted span {\n",
       "  /* fitted */\n",
       "  background: var(--sklearn-color-fitted-level-0);\n",
       "  border: var(--sklearn-color-fitted-level-3);\n",
       "}\n",
       "\n",
       ".sk-estimator-doc-link:hover span {\n",
       "  display: block;\n",
       "}\n",
       "\n",
       "/* \"?\"-specific style due to the `<a>` HTML tag */\n",
       "\n",
       "#sk-container-id-4 a.estimator_doc_link {\n",
       "  float: right;\n",
       "  font-size: 1rem;\n",
       "  line-height: 1em;\n",
       "  font-family: monospace;\n",
       "  background-color: var(--sklearn-color-background);\n",
       "  border-radius: 1rem;\n",
       "  height: 1rem;\n",
       "  width: 1rem;\n",
       "  text-decoration: none;\n",
       "  /* unfitted */\n",
       "  color: var(--sklearn-color-unfitted-level-1);\n",
       "  border: var(--sklearn-color-unfitted-level-1) 1pt solid;\n",
       "}\n",
       "\n",
       "#sk-container-id-4 a.estimator_doc_link.fitted {\n",
       "  /* fitted */\n",
       "  border: var(--sklearn-color-fitted-level-1) 1pt solid;\n",
       "  color: var(--sklearn-color-fitted-level-1);\n",
       "}\n",
       "\n",
       "/* On hover */\n",
       "#sk-container-id-4 a.estimator_doc_link:hover {\n",
       "  /* unfitted */\n",
       "  background-color: var(--sklearn-color-unfitted-level-3);\n",
       "  color: var(--sklearn-color-background);\n",
       "  text-decoration: none;\n",
       "}\n",
       "\n",
       "#sk-container-id-4 a.estimator_doc_link.fitted:hover {\n",
       "  /* fitted */\n",
       "  background-color: var(--sklearn-color-fitted-level-3);\n",
       "}\n",
       "</style><div id=\"sk-container-id-4\" class=\"sk-top-container\"><div class=\"sk-text-repr-fallback\"><pre>KMeans(n_clusters=4, random_state=42)</pre><b>In a Jupyter environment, please rerun this cell to show the HTML representation or trust the notebook. <br />On GitHub, the HTML representation is unable to render, please try loading this page with nbviewer.org.</b></div><div class=\"sk-container\" hidden><div class=\"sk-item\"><div class=\"sk-estimator fitted sk-toggleable\"><input class=\"sk-toggleable__control sk-hidden--visually\" id=\"sk-estimator-id-4\" type=\"checkbox\" checked><label for=\"sk-estimator-id-4\" class=\"sk-toggleable__label fitted sk-toggleable__label-arrow fitted\">&nbsp;&nbsp;KMeans<a class=\"sk-estimator-doc-link fitted\" rel=\"noreferrer\" target=\"_blank\" href=\"https://scikit-learn.org/1.4/modules/generated/sklearn.cluster.KMeans.html\">?<span>Documentation for KMeans</span></a><span class=\"sk-estimator-doc-link fitted\">i<span>Fitted</span></span></label><div class=\"sk-toggleable__content fitted\"><pre>KMeans(n_clusters=4, random_state=42)</pre></div> </div></div></div></div>"
      ],
      "text/plain": [
       "KMeans(n_clusters=4, random_state=42)"
      ]
     },
     "execution_count": 400,
     "metadata": {},
     "output_type": "execute_result"
    }
   ],
   "source": [
    "# Melatih model K-Means\n",
    "kmeans = KMeans(n_clusters=optimal_clusters, random_state=42)\n",
    "kmeans.fit(scaled_data)"
   ]
  },
  {
   "cell_type": "code",
   "execution_count": 402,
   "id": "ea3f3ab1-f353-45bf-b8db-e509cef3126c",
   "metadata": {},
   "outputs": [],
   "source": [
    "# Menambahkan kolom klaster ke dataframe asli\n",
    "df['cluster'] = kmeans.labels_\n"
   ]
  },
  {
   "cell_type": "code",
   "execution_count": 404,
   "id": "71c05faf-25ec-4b92-a6e3-66386ee6649a",
   "metadata": {},
   "outputs": [
    {
     "name": "stdout",
     "output_type": "stream",
     "text": [
      "Silhouette Score: 0.53\n",
      "Calinski-Harabasz Index: 20.00\n",
      "Davies-Bouldin Index: 0.27\n"
     ]
    }
   ],
   "source": [
    "# Menghitung metrik evaluasi\n",
    "silhouette_avg = silhouette_score(scaled_data, kmeans.labels_)\n",
    "calinski_harabasz_avg = calinski_harabasz_score(scaled_data, kmeans.labels_)\n",
    "davies_bouldin_avg = davies_bouldin_score(scaled_data, kmeans.labels_)\n",
    "\n",
    "print(f'Silhouette Score: {silhouette_avg:.2f}')\n",
    "print(f'Calinski-Harabasz Index: {calinski_harabasz_avg:.2f}')\n",
    "print(f'Davies-Bouldin Index: {davies_bouldin_avg:.2f}')"
   ]
  },
  {
   "cell_type": "code",
   "execution_count": 406,
   "id": "72bae460-45c5-47c0-bebd-db40f14c06d8",
   "metadata": {},
   "outputs": [
    {
     "name": "stdout",
     "output_type": "stream",
     "text": [
      "F1 Score: 0.30\n"
     ]
    }
   ],
   "source": [
    "# Impor library yang diperlukan\n",
    "from sklearn.metrics import f1_score\n",
    "\n",
    "# Misalkan df adalah DataFrame yang berisi label asli dan label hasil clustering\n",
    "# y_true adalah kolom dengan label asli\n",
    "# y_pred adalah kolom dengan label hasil clustering\n",
    "\n",
    "# Menghitung F1 score\n",
    "y_true = df['true_label']\n",
    "y_pred = df['cluster']\n",
    "f1 = f1_score(y_true, y_pred, average='weighted')\n",
    "\n",
    "# Menampilkan hasil F1 score\n",
    "print(f'F1 Score: {f1:.2f}')\n"
   ]
  },
  {
   "cell_type": "code",
   "execution_count": 408,
   "id": "a1e64643-19a6-4d68-a65d-bf8db8b2e88f",
   "metadata": {},
   "outputs": [
    {
     "name": "stdout",
     "output_type": "stream",
     "text": [
      "F1 Score: 0.30\n"
     ]
    }
   ],
   "source": [
    "# Menghitung F1 Score secara keseluruhan\n",
    "y_true = df['true_label']\n",
    "y_pred = df['cluster']\n",
    "f1 = f1_score(y_true, y_pred, average='weighted')\n",
    "print(f'F1 Score: {f1:.2f}')\n"
   ]
  },
  {
   "cell_type": "code",
   "execution_count": 410,
   "id": "d4e5398c-4b55-4c1d-baa4-2250a0c9c0aa",
   "metadata": {},
   "outputs": [
    {
     "data": {
      "text/plain": [
       "['kmeans_model.pkl']"
      ]
     },
     "execution_count": 410,
     "metadata": {},
     "output_type": "execute_result"
    }
   ],
   "source": [
    "# Menyimpan model K-Means\n",
    "joblib.dump(kmeans, 'kmeans_model.pkl')\n"
   ]
  },
  {
   "cell_type": "code",
   "execution_count": 412,
   "id": "e81a5ad7-5847-4516-a59b-63b2ba49ba14",
   "metadata": {},
   "outputs": [],
   "source": [
    "# Menyimpan dataframe dengan kolom klaster\n",
    "df.to_csv('clustered_spotify_songs.csv', index=False)"
   ]
  },
  {
   "cell_type": "code",
   "execution_count": 414,
   "id": "50874f2e-61e8-44a2-8ae4-aa7873fa09e5",
   "metadata": {},
   "outputs": [],
   "source": [
    "from sklearn.model_selection import GridSearchCV\n",
    "from sklearn.cluster import DBSCAN"
   ]
  },
  {
   "cell_type": "code",
   "execution_count": 416,
   "id": "0cb2d471-6342-45cf-82f5-89961b01c1ea",
   "metadata": {},
   "outputs": [],
   "source": [
    "# Definisikan parameter yang akan di-tuning\n",
    "param_grid = {\n",
    "    'eps': [0.3, 0.5, 0.7],\n",
    "    'min_samples': [3, 5, 10]\n",
    "}"
   ]
  },
  {
   "cell_type": "code",
   "execution_count": 418,
   "id": "7fb74a69-dac9-4b57-8305-ad70992510dc",
   "metadata": {},
   "outputs": [
    {
     "name": "stdout",
     "output_type": "stream",
     "text": [
      "Silhouette Score: 0.5321377482951317\n",
      "Calinski-Harabasz Score: 20.0\n",
      "Davies-Bouldin Score: 0.2699589777757363\n"
     ]
    }
   ],
   "source": [
    "# Menampilkan hasil evaluasi\n",
    "print(f\"Silhouette Score: {silhouette_avg}\")\n",
    "print(f\"Calinski-Harabasz Score: {calinski_harabasz_avg}\")\n",
    "print(f\"Davies-Bouldin Score: {davies_bouldin_avg}\")"
   ]
  },
  {
   "cell_type": "code",
   "execution_count": 420,
   "id": "3e650e14-ce8d-4e58-9c7a-b33146cd2efb",
   "metadata": {},
   "outputs": [],
   "source": [
    "import numpy as np"
   ]
  },
  {
   "cell_type": "code",
   "execution_count": 422,
   "id": "421c7062-b559-40a1-a5eb-4c7c5b532568",
   "metadata": {},
   "outputs": [],
   "source": [
    "from sklearn.metrics import silhouette_score\n"
   ]
  },
  {
   "cell_type": "code",
   "execution_count": 424,
   "id": "38cbefbc-7404-4960-8024-25a897fc7cff",
   "metadata": {},
   "outputs": [],
   "source": [
    "# Misalkan df adalah DataFrame Anda\n",
    "# Menghapus kolom yang tidak diperlukan\n",
    "df = df.drop(['id', 'name', 'artists', 'release_date'], axis=1, errors='ignore')\n",
    "\n",
    "# Memisahkan kolom numerik dan non-numerik\n",
    "numeric_cols = df.select_dtypes(include=[np.number]).columns\n",
    "non_numeric_cols = df.select_dtypes(exclude=[np.number]).columns\n",
    "\n",
    "# Mengisi nilai yang hilang di kolom numerik dengan median\n",
    "imputer = SimpleImputer(strategy='median')\n",
    "df[numeric_cols] = imputer.fit_transform(df[numeric_cols])\n",
    "\n",
    "# Mengisi nilai yang hilang di kolom non-numerik dengan 'missing'\n",
    "df[non_numeric_cols] = df[non_numeric_cols].fillna('missing')\n",
    "\n",
    "# Standarisasi fitur numerik\n",
    "scaler = StandardScaler()\n",
    "df[numeric_cols] = scaler.fit_transform(df[numeric_cols])"
   ]
  },
  {
   "cell_type": "code",
   "execution_count": 426,
   "id": "92d7a8ae-f3f6-472d-8fd9-1b442e5a8a39",
   "metadata": {},
   "outputs": [],
   "source": [
    "import pandas as pd\n",
    "import numpy as np\n",
    "from sklearn.preprocessing import StandardScaler\n",
    "from sklearn.impute import SimpleImputer\n",
    "\n",
    "# Misalkan df adalah DataFrame Anda\n",
    "# Menghapus kolom yang tidak diperlukan\n",
    "df = df.drop(['id', 'name', 'artists', 'release_date'], axis=1, errors='ignore')\n",
    "\n",
    "# Memisahkan kolom numerik dan non-numerik\n",
    "numeric_cols = df.select_dtypes(include=[np.number]).columns\n",
    "non_numeric_cols = df.select_dtypes(exclude=[np.number]).columns\n",
    "\n",
    "# Mengisi nilai yang hilang di kolom numerik dengan median\n",
    "imputer = SimpleImputer(strategy='median')\n",
    "df[numeric_cols] = imputer.fit_transform(df[numeric_cols])\n",
    "\n",
    "# Mengisi nilai yang hilang di kolom non-numerik dengan 'missing'\n",
    "df[non_numeric_cols] = df[non_numeric_cols].fillna('missing')\n",
    "\n",
    "# Standarisasi fitur numerik\n",
    "scaler = StandardScaler()\n",
    "df[numeric_cols] = scaler.fit_transform(df[numeric_cols])\n"
   ]
  },
  {
   "cell_type": "code",
   "execution_count": 428,
   "id": "4b9ad844-f95e-4705-bd21-a8adcdcb6809",
   "metadata": {},
   "outputs": [
    {
     "name": "stdout",
     "output_type": "stream",
     "text": [
      "8\n"
     ]
    }
   ],
   "source": [
    "print(df.shape[0])\n"
   ]
  },
  {
   "cell_type": "code",
   "execution_count": 434,
   "id": "ff9b8a55-d438-4fb5-999e-25518032f65e",
   "metadata": {},
   "outputs": [
    {
     "name": "stdout",
     "output_type": "stream",
     "text": [
      "Index(['true_label', 'cluster'], dtype='object')\n"
     ]
    }
   ],
   "source": [
    "print(numeric_cols)\n"
   ]
  },
  {
   "cell_type": "code",
   "execution_count": 436,
   "id": "848e165f-de39-4c8a-8cec-1279914b1ece",
   "metadata": {},
   "outputs": [],
   "source": [
    "df = df.drop_duplicates()\n"
   ]
  },
  {
   "cell_type": "code",
   "execution_count": 438,
   "id": "885c346d-6a71-4d7d-9c91-c5c1b48e4d89",
   "metadata": {},
   "outputs": [],
   "source": [
    "df = df.dropna(subset=numeric_cols)\n"
   ]
  },
  {
   "cell_type": "code",
   "execution_count": 440,
   "id": "7fb4860e-0c75-41fd-8105-8c379e43d816",
   "metadata": {},
   "outputs": [],
   "source": [
    "from sklearn.preprocessing import StandardScaler\n",
    "\n",
    "scaler = StandardScaler()\n",
    "df_scaled = pd.DataFrame(scaler.fit_transform(df[numeric_cols]), columns=numeric_cols)\n"
   ]
  },
  {
   "cell_type": "code",
   "execution_count": 442,
   "id": "42ea1f7c-1079-4bcb-a362-ad8737c5c2cc",
   "metadata": {},
   "outputs": [],
   "source": [
    "import pandas as pd\n",
    "import numpy as np\n",
    "from sklearn.cluster import KMeans\n",
    "from sklearn.metrics import calinski_harabasz_score, davies_bouldin_score\n",
    "import matplotlib.pyplot as plt\n"
   ]
  },
  {
   "cell_type": "code",
   "execution_count": 446,
   "id": "81de87f1-ac4e-4bea-9f93-b9ea2adc1e53",
   "metadata": {},
   "outputs": [
    {
     "name": "stderr",
     "output_type": "stream",
     "text": [
      "C:\\Users\\reza amru\\anaconda3\\Lib\\site-packages\\sklearn\\cluster\\_kmeans.py:1446: UserWarning: KMeans is known to have a memory leak on Windows with MKL, when there are less chunks than available threads. You can avoid it by setting the environment variable OMP_NUM_THREADS=1.\n",
      "  warnings.warn(\n",
      "C:\\Users\\reza amru\\anaconda3\\Lib\\site-packages\\sklearn\\cluster\\_kmeans.py:1446: UserWarning: KMeans is known to have a memory leak on Windows with MKL, when there are less chunks than available threads. You can avoid it by setting the environment variable OMP_NUM_THREADS=1.\n",
      "  warnings.warn(\n",
      "C:\\Users\\reza amru\\anaconda3\\Lib\\site-packages\\sklearn\\cluster\\_kmeans.py:1446: UserWarning: KMeans is known to have a memory leak on Windows with MKL, when there are less chunks than available threads. You can avoid it by setting the environment variable OMP_NUM_THREADS=1.\n",
      "  warnings.warn(\n",
      "C:\\Users\\reza amru\\anaconda3\\Lib\\site-packages\\sklearn\\cluster\\_kmeans.py:1446: UserWarning: KMeans is known to have a memory leak on Windows with MKL, when there are less chunks than available threads. You can avoid it by setting the environment variable OMP_NUM_THREADS=1.\n",
      "  warnings.warn(\n"
     ]
    },
    {
     "name": "stdout",
     "output_type": "stream",
     "text": [
      "Error for 5 clusters: Number of labels is 5. Valid values are 2 to n_samples - 1 (inclusive)\n",
      "Error for 6 clusters: n_samples=5 should be >= n_clusters=6.\n",
      "Error for 7 clusters: n_samples=5 should be >= n_clusters=7.\n",
      "Error for 8 clusters: n_samples=5 should be >= n_clusters=8.\n",
      "Error for 9 clusters: n_samples=5 should be >= n_clusters=9.\n",
      "Error for 10 clusters: n_samples=5 should be >= n_clusters=10.\n"
     ]
    },
    {
     "data": {
      "image/png": "[encoded data removed]",
      "text/plain": [
       "<Figure size 1200x600 with 1 Axes>"
      ]
     },
     "metadata": {},
     "output_type": "display_data"
    },
    {
     "name": "stderr",
     "output_type": "stream",
     "text": [
      "C:\\Users\\reza amru\\anaconda3\\Lib\\site-packages\\sklearn\\cluster\\_kmeans.py:1446: UserWarning: KMeans is known to have a memory leak on Windows with MKL, when there are less chunks than available threads. You can avoid it by setting the environment variable OMP_NUM_THREADS=1.\n",
      "  warnings.warn(\n"
     ]
    }
   ],
   "source": [
    "from sklearn.cluster import KMeans\n",
    "from sklearn.metrics import calinski_harabasz_score, davies_bouldin_score\n",
    "import matplotlib.pyplot as plt\n",
    "\n",
    "# Inisialisasi list untuk menyimpan skor\n",
    "calinski_harabasz_scores = []\n",
    "davies_bouldin_scores = []\n",
    "range_n_clusters = list(range(2, 11))\n",
    "\n",
    "# Loop untuk menguji berbagai jumlah klaster\n",
    "for num_clusters in range_n_clusters:\n",
    "    kmeans = KMeans(n_clusters=num_clusters, random_state=42)\n",
    "    \n",
    "    try:\n",
    "        # Fit KMeans dan prediksi klaster\n",
    "        cluster_labels = kmeans.fit_predict(df_scaled)\n",
    "        \n",
    "        # Hitung skor evaluasi\n",
    "        calinski_harabasz_scores.append(calinski_harabasz_score(df_scaled, cluster_labels))\n",
    "        davies_bouldin_scores.append(davies_bouldin_score(df_scaled, cluster_labels))\n",
    "    \n",
    "    except ValueError as e:\n",
    "        print(f\"Error for {num_clusters} clusters: {e}\")\n",
    "        calinski_harabasz_scores.append(None)\n",
    "        davies_bouldin_scores.append(None)\n",
    "\n",
    "# Plot Calinski-Harabasz Index dan Davies-Bouldin Index\n",
    "plt.figure(figsize=(12, 6))\n",
    "\n",
    "# Plot Calinski-Harabasz Index\n",
    "plt.plot(range_n_clusters, calinski_harabasz_scores, marker='o', label='Calinski-Harabasz Index')\n",
    "\n",
    "# Plot Davies-Bouldin Index\n",
    "plt.plot(range_n_clusters, davies_bouldin_scores, marker='o', label='Davies-Bouldin Index')\n",
    "\n",
    "plt.title(\"Calinski-Harabasz Index and Davies-Bouldin Index for Different Numbers of Clusters\")\n",
    "plt.xlabel(\"Number of Clusters\")\n",
    "plt.ylabel(\"Score\")\n",
    "plt.legend()\n",
    "plt.grid(True)\n",
    "plt.show()\n",
    "\n",
    "# Memilih jumlah klaster optimal berdasarkan plot (misalnya 4)\n",
    "optimal_clusters = 4\n",
    "kmeans = KMeans(n_clusters=optimal_clusters, random_state=42)\n",
    "\n",
    "# Menambahkan kolom klaster ke DataFrame\n",
    "df['cluster'] = kmeans.fit_predict(df_scaled)\n"
   ]
  },
  {
   "cell_type": "code",
   "execution_count": 450,
   "id": "0f1217eb-cbfd-4172-ac66-7c7661671fe0",
   "metadata": {},
   "outputs": [
    {
     "name": "stdout",
     "output_type": "stream",
     "text": [
      "Index(['true_label', 'cluster'], dtype='object')\n"
     ]
    }
   ],
   "source": [
    "# Memeriksa kolom yang ada dalam DataFrame\n",
    "print(df.columns)"
   ]
  },
  {
   "cell_type": "code",
   "execution_count": 452,
   "id": "dbfce065-1aa7-4b38-8a82-75abd30d8d78",
   "metadata": {},
   "outputs": [],
   "source": [
    "# Membaca dataset\n",
    "df = pd.read_csv('clustered_spotify_songs.csv')  # Ganti dengan path yang sesuai\n"
   ]
  },
  {
   "cell_type": "code",
   "execution_count": 454,
   "id": "0c2ecaf7-665c-4cdd-8fcc-c0b712cce7ba",
   "metadata": {},
   "outputs": [
    {
     "name": "stdout",
     "output_type": "stream",
     "text": [
      "Index(['true_label', 'cluster'], dtype='object')\n",
      "   true_label  cluster\n",
      "0           2        1\n",
      "1           3        1\n",
      "2           0        0\n",
      "3           2        1\n",
      "4           2        1\n"
     ]
    }
   ],
   "source": [
    "# Memeriksa kolom yang ada dalam DataFrame\n",
    "print(df.columns)\n",
    "\n",
    "# Memeriksa beberapa baris pertama\n",
    "print(df.head())"
   ]
  },
  {
   "cell_type": "code",
   "execution_count": 456,
   "id": "6f83c707-ba08-40a3-8822-1c0f6c67ab69",
   "metadata": {},
   "outputs": [],
   "source": [
    "# Menghapus kolom yang tidak diperlukan\n",
    "df = df.drop(['id', 'name', 'artists', 'release_date'], axis=1, errors='ignore')\n",
    "\n",
    "# Memisahkan kolom numerik dan non-numerik\n",
    "numeric_cols = df.select_dtypes(include=[np.number]).columns\n",
    "non_numeric_cols = df.select_dtypes(exclude=[np.number]).columns\n",
    "\n",
    "# Mengisi nilai yang hilang di kolom numerik dengan median\n",
    "imputer = SimpleImputer(strategy='median')\n",
    "df[numeric_cols] = imputer.fit_transform(df[numeric_cols])\n",
    "\n",
    "# Mengisi nilai yang hilang di kolom non-numerik dengan 'missing'\n",
    "df[non_numeric_cols] = df[non_numeric_cols].fillna('missing')\n",
    "\n",
    "# Standarisasi fitur numerik\n",
    "scaler = StandardScaler()\n",
    "df[numeric_cols] = scaler.fit_transform(df[numeric_cols])\n"
   ]
  },
  {
   "cell_type": "code",
   "execution_count": 460,
   "id": "e339805f-b246-4e24-b30b-66a93422c058",
   "metadata": {},
   "outputs": [
    {
     "name": "stdout",
     "output_type": "stream",
     "text": [
      "cluster\n",
      "-0.13484    4\n",
      "-1.21356    2\n",
      " 0.94388    1\n",
      " 2.02260    1\n",
      "Name: count, dtype: int64\n"
     ]
    }
   ],
   "source": [
    "print(df['cluster'].value_counts())\n"
   ]
  },
  {
   "cell_type": "code",
   "execution_count": 462,
   "id": "78baf3fd-b3cd-497e-99d9-8e3ce917ca4a",
   "metadata": {},
   "outputs": [
    {
     "name": "stdout",
     "output_type": "stream",
     "text": [
      "          true_label\n",
      "cluster             \n",
      "-1.21356   -1.224745\n",
      "-0.13484    0.612372\n",
      " 0.94388    1.224745\n",
      " 2.02260   -1.224745\n"
     ]
    }
   ],
   "source": [
    "cluster_profiles = df.groupby('cluster').mean()\n",
    "print(cluster_profiles)\n"
   ]
  },
  {
   "cell_type": "code",
   "execution_count": 468,
   "id": "1001c3bf-2084-46c1-a975-8ed0611a9b89",
   "metadata": {},
   "outputs": [],
   "source": [
    "import pickle\n",
    "\n",
    "with open('kmeans_model.pkl', 'wb') as f:\n",
    "    pickle.dump(kmeans, f)\n"
   ]
  },
  {
   "cell_type": "code",
   "execution_count": 470,
   "id": "9714928c-6dab-4fce-95eb-e39f952da4e5",
   "metadata": {},
   "outputs": [],
   "source": [
    "with open('kmeans_model.pkl', 'rb') as f:\n",
    "    loaded_kmeans = pickle.load(f)\n"
   ]
  },
  {
   "cell_type": "code",
   "execution_count": null,
   "id": "f49697b5-5461-4f09-af98-2f378f4fffc0",
   "metadata": {},
   "outputs": [],
   "source": []
  },
  {
   "cell_type": "code",
   "execution_count": null,
   "id": "c37d8aca-dd39-469b-a6e5-11ca5ae5eecd",
   "metadata": {},
   "outputs": [],
   "source": []
  },
  {
   "cell_type": "code",
   "execution_count": null,
   "id": "c277a5dd-7ca1-4881-b032-58ca3d9a2025",
   "metadata": {},
   "outputs": [],
   "source": []
  },
  {
   "cell_type": "code",
   "execution_count": null,
   "id": "bd9b7e1b-61f3-4ca8-8ca6-f628b51a8e16",
   "metadata": {},
   "outputs": [],
   "source": []
  }
 ],
 "metadata": {
  "kernelspec": {
   "display_name": "Python 3 (ipykernel)",
   "language": "python",
   "name": "python3"
  },
  "language_info": {
   "codemirror_mode": {
    "name": "ipython",
    "version": 3
   },
   "file_extension": ".py",
   "mimetype": "text/x-python",
   "name": "python",
   "nbconvert_exporter": "python",
   "pygments_lexer": "ipython3",
   "version": "3.12.4"
  }
 },
 "nbformat": 4,
 "nbformat_minor": 5
}
